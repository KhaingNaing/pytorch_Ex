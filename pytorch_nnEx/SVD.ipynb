{
 "cells": [
  {
   "cell_type": "code",
   "execution_count": 5,
   "id": "7474de66",
   "metadata": {},
   "outputs": [],
   "source": [
    "import torch \n",
    "import numpy as np"
   ]
  },
  {
   "cell_type": "code",
   "execution_count": 6,
   "id": "10931520",
   "metadata": {},
   "outputs": [],
   "source": [
    "words = [\"flowers\", \"grew\", \"tall\", \"on\", \"two\", \"towers\"]"
   ]
  },
  {
   "cell_type": "code",
   "execution_count": 19,
   "id": "2b52dd63",
   "metadata": {},
   "outputs": [],
   "source": [
    "X = torch.tensor([[0.,1.,1.,0.,1.,0.],\n",
    "             [1.,0.,1.,1.,1.,0.],\n",
    "             [1.,1.,0.,2.,2.,1.],\n",
    "             [0.,1.,2.,1.,0.,1.],\n",
    "             [1.,1.,2.,1.,0.,1.],\n",
    "             [0.,0.,1.,0.,1.,0.]])"
   ]
  },
  {
   "cell_type": "code",
   "execution_count": 24,
   "id": "280865ec",
   "metadata": {},
   "outputs": [
    {
     "name": "stdout",
     "output_type": "stream",
     "text": [
      "torch.Size([6, 6])\n"
     ]
    }
   ],
   "source": [
    "print(X.shape)\n"
   ]
  },
  {
   "cell_type": "code",
   "execution_count": 21,
   "id": "93b12960",
   "metadata": {},
   "outputs": [],
   "source": [
    "u, s, v = torch.svd(X)"
   ]
  },
  {
   "cell_type": "code",
   "execution_count": 26,
   "id": "9f70c46c",
   "metadata": {},
   "outputs": [
    {
     "name": "stdout",
     "output_type": "stream",
     "text": [
      "tensor([[-0.26,  0.06, -0.61,  0.46,  0.51, -0.29],\n",
      "        [-0.35, -0.17, -0.21, -0.75, -0.01, -0.49],\n",
      "        [-0.54, -0.74,  0.24,  0.27, -0.07,  0.12],\n",
      "        [-0.46,  0.49,  0.16,  0.29, -0.56, -0.34],\n",
      "        [-0.52,  0.41,  0.29, -0.23,  0.48,  0.44],\n",
      "        [-0.19,  0.03, -0.64, -0.12, -0.43,  0.59]]) \n",
      " tensor([[-0.28, -0.20,  0.21, -0.61,  0.65,  0.22],\n",
      "        [-0.36,  0.09,  0.05,  0.68,  0.58, -0.25],\n",
      "        [-0.56,  0.69, -0.36, -0.25, -0.14, -0.03],\n",
      "        [-0.49, -0.30,  0.47, -0.12, -0.39, -0.54],\n",
      "        [-0.38, -0.62, -0.64,  0.10, -0.12,  0.20],\n",
      "        [-0.31,  0.07,  0.45,  0.29, -0.25,  0.75]]) \n",
      " tensor([4.94, 2.52, 1.55, 1.17, 0.62, 0.29])\n"
     ]
    }
   ],
   "source": [
    "torch.set_printoptions(precision=2)\n",
    "print(u, \"\\n\", v, \"\\n\", s)"
   ]
  },
  {
   "cell_type": "code",
   "execution_count": 25,
   "id": "0759c874",
   "metadata": {},
   "outputs": [
    {
     "name": "stdout",
     "output_type": "stream",
     "text": [
      "torch.Size([6, 6]) torch.Size([6, 6]) torch.Size([6])\n"
     ]
    }
   ],
   "source": [
    "print(u.shape, v.shape, s.shape)"
   ]
  },
  {
   "cell_type": "code",
   "execution_count": 31,
   "id": "e0ff8a48",
   "metadata": {},
   "outputs": [
    {
     "name": "stdout",
     "output_type": "stream",
     "text": [
      "tensor(-0.26) tensor(-0.25) tensor(0.06)\n",
      "tensor(-0.35) tensor(-0.34) tensor(-0.17)\n",
      "tensor(-0.54) tensor(-0.53) tensor(-0.74)\n",
      "tensor(-0.46) tensor(-0.45) tensor(0.49)\n",
      "tensor(-0.52) tensor(-0.51) tensor(0.41)\n",
      "tensor(-0.19) tensor(-0.18) tensor(0.03)\n"
     ]
    },
    {
     "data": {
      "image/png": "[encoded data removed]",
      "text/plain": [
       "<Figure size 640x480 with 1 Axes>"
      ]
     },
     "metadata": {},
     "output_type": "display_data"
    }
   ],
   "source": [
    "import matplotlib.pyplot as plt\n",
    "\n",
    "# Extract a word representation from the first two columns of {\\rm U}U\n",
    "plt.scatter(u[:,0],u[:,1],c='blue')\n",
    "# set x axis scale \n",
    "plt.xlim([-0.6,-0.1])\n",
    "\n",
    "# for range in U.rowSize \n",
    "for a in range(u.size()[0]):\n",
    "    # matplotlib.pyplot.text(x_coord, y_coord, string)\n",
    "    print(u[a,0],0.01+u[a,0], u[a,1])\n",
    "    plt.text(0.01+u[a,0],u[a,1],words[a])\n",
    "\n",
    "plt.savefig('vectors.png')\n",
    "plt.show()  "
   ]
  },
  {
   "cell_type": "code",
   "execution_count": null,
   "id": "8d83b801",
   "metadata": {},
   "outputs": [],
   "source": []
  }
 ],
 "metadata": {
  "kernelspec": {
   "display_name": "Python 3 (ipykernel)",
   "language": "python",
   "name": "python3"
  },
  "language_info": {
   "codemirror_mode": {
    "name": "ipython",
    "version": 3
   },
   "file_extension": ".py",
   "mimetype": "text/x-python",
   "name": "python",
   "nbconvert_exporter": "python",
   "pygments_lexer": "ipython3",
   "version": "3.9.12"
  }
 },
 "nbformat": 4,
 "nbformat_minor": 5
}
