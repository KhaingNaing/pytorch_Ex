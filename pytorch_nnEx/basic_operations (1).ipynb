{
    "metadata": {
        "kernelspec": {
            "name": "python3",
            "display_name": "Python 3 (ipykernel)",
            "language": "python"
        }
    },
    "nbformat": 4,
    "nbformat_minor": 2,
    "cells": [
        {
            "attachments": {},
            "cell_type": "markdown",
            "metadata": {},
            "source": [
                "# Pytorch Basic Operations"
            ]
        },
        {
            "attachments": {},
            "cell_type": "markdown",
            "metadata": {},
            "source": [
                "The **Tensor** is a fundamental structure in PyTorch which is very similar to an array or matrix. Tensors are used to encode the inputs and outputs of a model, as well as the model’s parameters. In this exercise, you will learn how to implement basic tensor operations."
            ]
        },
        {
            "cell_type": "code",
            "execution_count": 2,
            "metadata": {},
            "outputs": [],
            "source": [
                "\"\"\"\n",
                "ONLY COMPLETE METHODS AND CLASSES MARKED \"TODO\".\n",
                "DO NOT IMPORT ADDITIONAL LIBRARIES.\n",
                "\"\"\"\n",
                "import torch"
            ]
        },
        {
            "attachments": {},
            "cell_type": "markdown",
            "metadata": {},
            "source": [
                "For some of the exercises, the documentation of `torch.Tensor` should be very helpful:\n",
                "https://pytorch.org/docs/stable/tensors.html\n",
                "\n",
                "Basically, when you see an unfamiliar function, you should check in the documentation to see what the **input/output** of the function should look like, what **parameters** are needed and how these parameters will affect the result. "
            ]
        },
        {
            "attachments": {},
            "cell_type": "markdown",
            "metadata": {},
            "source": [
                "## Create Tensors"
            ]
        },
        {
            "cell_type": "code",
            "execution_count": 3,
            "metadata": {},
            "outputs": [],
            "source": [
                "# Create tensors\n",
                "shape = (2,3,)\n",
                "x = torch.rand(shape)\n",
                "y = torch.rand(shape)\n",
                "z = torch.zeros(shape)"
            ]
        },
        {
            "attachments": {},
            "cell_type": "markdown",
            "metadata": {},
            "source": [
                "## Addition\n",
                "Implement a simple tensor addition x + y and assign the result to z. "
            ]
        },
        {
            "cell_type": "code",
            "execution_count": 4,
            "metadata": {},
            "outputs": [
                {
                    "name": "stdout",
                    "output_type": "stream",
                    "text": "x = :\ntensor([[0.2360, 0.7560, 0.1999],\n        [0.7992, 0.5886, 0.8820]])\ny = :\ntensor([[0.7853, 0.1520, 0.9190],\n        [0.4666, 0.0645, 0.8494]])\n\n\nx + y = :\ntensor([[1.0213, 0.9080, 1.1189],\n        [1.2658, 0.6531, 1.7314]])\n\n\n"
                }
            ],
            "source": [
                "\"\"\"\n",
                "TODO: Implement a simple tensor addition x + y. \n",
                "Assign the result to z. \n",
                "\"\"\"\n",
                "z = x + y\n",
                "\n",
                "print(\"x = :\")\n",
                "print(x)\n",
                "print(\"y = :\")\n",
                "print(y)\n",
                "\n",
                "print(\"\\n\")\n",
                "\n",
                "print(\"x + y = :\")\n",
                "print(z)\n",
                "print(\"\\n\")"
            ]
        },
        {
            "attachments": {},
            "cell_type": "markdown",
            "metadata": {},
            "source": [
                "## Reshape\n",
                "Reshape the tensor **z** into the specified shape (new_shape)"
            ]
        },
        {
            "cell_type": "code",
            "execution_count": 5,
            "metadata": {},
            "outputs": [
                {
                    "name": "stdout",
                    "output_type": "stream",
                    "text": "z and its shape after reshaping:\ntensor([[0.0977, 0.4753],\n        [0.4123, 0.2694],\n        [0.4455, 0.3110]])\ntorch.Size([3, 2])\n\n\n"
                }
            ],
            "source": [
                "z = torch.rand([2,3])\n",
                "new_shape = (3,2)\n",
                "\n",
                "\"\"\"\n",
                "TODO: Reshapes the tensor z with the given shape (new_shape) \n",
                "Hint: use view()\n",
                "\"\"\"\n",
                "z = z.view(new_shape)\n",
                "\n",
                "print(\"z and its shape after reshaping:\")\n",
                "print(z)\n",
                "print(z.shape)\n",
                "print(\"\\n\")"
            ]
        },
        {
            "attachments": {},
            "cell_type": "markdown",
            "metadata": {},
            "source": [
                "## Flatten\n",
                "Flatten the tensor **z**."
            ]
        },
        {
            "cell_type": "code",
            "execution_count": 6,
            "metadata": {},
            "outputs": [
                {
                    "name": "stdout",
                    "output_type": "stream",
                    "text": "z and its shape after the flatten operation:\ntensor([0.3598, 0.0817, 0.2227, 0.4138, 0.2769, 0.6032])\ntorch.Size([6])\n\n\n"
                }
            ],
            "source": [
                "z = torch.rand([2,3])\n",
                "\"\"\"\n",
                "Flatten\n",
                "TODO: Flatten the tensor z.\n",
                "Hint: use view()\n",
                "\"\"\"\n",
                "\n",
                "#z = torch.flatten(z)\n",
                "z = z.view(-1)\n",
                "\n",
                "# you can also use z = torch.flatten(z) in case z is not contiguous.\n",
                "\n",
                "print(\"z and its shape after the flatten operation:\")\n",
                "print(z)\n",
                "print(z.shape)\n",
                "print(\"\\n\")"
            ]
        },
        {
            "attachments": {},
            "cell_type": "markdown",
            "metadata": {},
            "source": [
                "## Transpose\n",
                "Swap the first dimension and the second dimension of **z**."
            ]
        },
        {
            "cell_type": "code",
            "execution_count": 7,
            "metadata": {},
            "outputs": [
                {
                    "name": "stdout",
                    "output_type": "stream",
                    "text": "tensor([[0.2141, 0.1077, 0.8888],\n        [0.2834, 0.7487, 0.0073]])\nz and its shape after the transpose operation:\ntensor([[0.2141, 0.2834],\n        [0.1077, 0.7487],\n        [0.8888, 0.0073]])\ntorch.Size([3, 2])\n\n\n"
                }
            ],
            "source": [
                "z = torch.rand([2,3])\n",
                "print(z)\n",
                "\"\"\"\n",
                "TODO: Swaps the first dimension and the second dimension of z.\n",
                "\"\"\"\n",
                "z = torch.transpose(z, 0, 1)\n",
                "\n",
                "\n",
                "print(\"z and its shape after the transpose operation:\")\n",
                "print(z)\n",
                "print(z.shape)\n",
                "print(\"\\n\")"
            ]
        },
        {
            "attachments": {},
            "cell_type": "markdown",
            "metadata": {},
            "source": [
                "## Permutation\n",
                "Permute the dimensions of **z** according to the specified order (exchanging axes)."
            ]
        },
        {
            "cell_type": "code",
            "execution_count": 8,
            "metadata": {},
            "outputs": [
                {
                    "name": "stdout",
                    "output_type": "stream",
                    "text": "z and its shape after permutation\ntensor([[[0.9057, 0.5339, 0.9899, 0.9080, 0.7272],\n         [0.2836, 0.2157, 0.2554, 0.4408, 0.8950],\n         [0.1230, 0.9053, 0.6458, 0.6690, 0.3103]]])\ntorch.Size([1, 3, 5])\n\n\n"
                }
            ],
            "source": [
                "\"\"\"\n",
                "Permutation\n",
                "TODO: Permute the dimensions of z according to the given order (swapping axes).\n",
                "torch.permute(input, dims)\n",
                "\"\"\"\n",
                "\n",
                "# Create a new tensor\n",
                "shape = (3,5,1)\n",
                "z = torch.rand(shape)\n",
                "order = [2,0,1]\n",
                "\n",
                "z = torch.permute(z, order)\n",
                "\n",
                "print(\"z and its shape after permutation\")\n",
                "print(z)\n",
                "print(z.shape)\n",
                "print(\"\\n\")"
            ]
        },
        {
            "attachments": {},
            "cell_type": "markdown",
            "metadata": {},
            "source": [
                "## Dot Product\n",
                "Calculate the dot product of two rank 1 tensors (vectors) u and v."
            ]
        },
        {
            "cell_type": "code",
            "execution_count": 9,
            "metadata": {},
            "outputs": [
                {
                    "name": "stdout",
                    "output_type": "stream",
                    "text": "The dot product of u and v:\n7\n\n\n"
                }
            ],
            "source": [
                "\"\"\"\n",
                "TODO: Calculate the dot product of\n",
                "      two rank 1 tensors (vectors) u and v.\n",
                "\"\"\"\n",
                "\n",
                "\n",
                "# Create two vectors\n",
                "v = torch.tensor([2, 3])\n",
                "u = torch.tensor([2, 1])\n",
                "\n",
                "result = torch.dot(u, v)\n",
                "\n",
                "print(\"The dot product of u and v:\")\n",
                "print(result.item())\n",
                "print(\"\\n\")"
            ]
        },
        {
            "attachments": {},
            "cell_type": "markdown",
            "metadata": {},
            "source": [
                "## Concatenation"
            ]
        },
        {
            "cell_type": "code",
            "execution_count": 10,
            "metadata": {},
            "outputs": [
                {
                    "name": "stdout",
                    "output_type": "stream",
                    "text": "The Concatenated tensor z of (x, y)\ntensor([[0.0999, 0.1070, 0.9263, 0.2139, 0.4824, 0.8240],\n        [0.5979, 0.8230, 0.4661, 0.4143, 0.7949, 0.5283]])\n\n\n"
                }
            ],
            "source": [
                "shape = (2,3,)\n",
                "x = torch.rand(shape)\n",
                "y = torch.rand(shape)\n",
                "\n",
                "\"\"\"\n",
                "TODO: Concatenate (x,y) in dimension 1.\n",
                "torch.cat((x, y), dim)\n",
                "\"\"\"\n",
                "z = torch.cat((x,y), 1)\n",
                "\n",
                "print(\"The Concatenated tensor z of (x, y)\")\n",
                "print(z)\n",
                "print(\"\\n\")"
            ]
        }
    ]
}
